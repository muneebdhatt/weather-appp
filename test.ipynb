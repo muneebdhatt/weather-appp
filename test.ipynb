{
 "cells": [
  {
   "cell_type": "code",
   "execution_count": 1,
   "metadata": {},
   "outputs": [],
   "source": [
    "import requests\n",
    "from pprint import pprint"
   ]
  },
  {
   "cell_type": "code",
   "execution_count": 3,
   "metadata": {},
   "outputs": [
    {
     "name": "stdout",
     "output_type": "stream",
     "text": [
      "{'base': 'stations',\n",
      " 'clouds': {'all': 0},\n",
      " 'cod': 200,\n",
      " 'coord': {'lat': 31.5497, 'lon': 74.3436},\n",
      " 'dt': 1696322406,\n",
      " 'id': 1172451,\n",
      " 'main': {'feels_like': 90.07,\n",
      "          'humidity': 40,\n",
      "          'pressure': 1008,\n",
      "          'temp': 89.58,\n",
      "          'temp_max': 91.09,\n",
      "          'temp_min': 89.58},\n",
      " 'name': 'Lahore',\n",
      " 'sys': {'country': 'PK',\n",
      "         'id': 7585,\n",
      "         'sunrise': 1696294626,\n",
      "         'sunset': 1696337185,\n",
      "         'type': 1},\n",
      " 'timezone': 18000,\n",
      " 'visibility': 5000,\n",
      " 'weather': [{'description': 'haze', 'icon': '50d', 'id': 721, 'main': 'Haze'}],\n",
      " 'wind': {'deg': 300, 'speed': 13.8}}\n"
     ]
    }
   ],
   "source": [
    "api_key = \"4a37e0bcb370eefc8346743b67625058\"\n",
    "\n",
    "user_input = \"Lahore\"\n",
    "weather_data = requests.get(f\"https://api.openweathermap.org/data/2.5/weather?q={user_input}&units=imperial&APPID={api_key}\")\n",
    "pprint(weather_data.json())"
   ]
  },
  {
   "cell_type": "code",
   "execution_count": 11,
   "metadata": {},
   "outputs": [
    {
     "ename": "TypeError",
     "evalue": "'dict_keys' object is not subscriptable",
     "output_type": "error",
     "traceback": [
      "\u001b[1;31m---------------------------------------------------------------------------\u001b[0m",
      "\u001b[1;31mTypeError\u001b[0m                                 Traceback (most recent call last)",
      "\u001b[1;32mc:\\Program Files\\vs projects\\weather app\\test.ipynb Cell 3\u001b[0m line \u001b[0;36m1\n\u001b[1;32m----> <a href='vscode-notebook-cell:/c%3A/Program%20Files/vs%20projects/weather%20app/test.ipynb#W3sZmlsZQ%3D%3D?line=0'>1</a>\u001b[0m weather_data\u001b[39m.\u001b[39;49mjson()[\u001b[39m'\u001b[39;49m\u001b[39mcoord\u001b[39;49m\u001b[39m'\u001b[39;49m]\u001b[39m.\u001b[39;49mkeys()[\u001b[39m0\u001b[39;49m]\n",
      "\u001b[1;31mTypeError\u001b[0m: 'dict_keys' object is not subscriptable"
     ]
    }
   ],
   "source": [
    "weather_data.json()"
   ]
  },
  {
   "cell_type": "code",
   "execution_count": 13,
   "metadata": {},
   "outputs": [
    {
     "name": "stdout",
     "output_type": "stream",
     "text": [
      "The weather in Lahore is : Haze\n",
      "The temperature in Lahore is : 89.58°F\n",
      "The feels_like temperature in Lahore is : 90.07°F\n",
      "89.58\n",
      "91.09\n",
      "40\n",
      "5000\n",
      "13.8\n",
      "1696294626\n",
      "1696337185\n",
      "latitude31.5497\n",
      "longitude74.3436\n"
     ]
    }
   ],
   "source": [
    "if weather_data.json()['cod'] == '404':\n",
    "    print(\"No city Found\")\n",
    "else:\n",
    "    weather = weather_data.json()['weather'][0]['main']\n",
    "    temp = weather_data.json()['main']['temp']\n",
    "    feels_like = weather_data.json()['main']['feels_like']\n",
    "    Min_temp = weather_data.json()['main']['temp_min']\n",
    "    Max_temp = weather_data.json()['main']['temp_max']\n",
    "    humidity = weather_data.json()['main']['humidity']\n",
    "    visibility = weather_data.json()['visibility']\n",
    "    wind_speed = weather_data.json()['wind']['speed']\n",
    "    sunrise = weather_data.json()['sys']['sunrise']\n",
    "    sunset = weather_data.json()['sys']['sunset']\n",
    "    latitude = weather_data.json()['coord']['lat']\n",
    "    longitude = weather_data.json()['coord']['lon']\n",
    "    pressure = weather_data.json()['main']['pressure']\n",
    "    print(f\"The weather in {user_input} is : {weather}\")\n",
    "    print(f\"The temperature in {user_input} is : {temp}°F\")\n",
    "    print(f\"The feels_like temperature in {user_input} is : {feels_like}°F\")\n",
    "    print(Min_temp)\n",
    "    print(Max_temp)\n",
    "    print(humidity)\n",
    "    print(visibility)\n",
    "    print(wind_speed)\n",
    "    print(sunrise)\n",
    "    print(sunset)\n",
    "    print(f\"latitude{latitude}\")\n",
    "    print(f\"longitude{longitude}\")\n",
    "    print(pressure)"
   ]
  }
 ],
 "metadata": {
  "kernelspec": {
   "display_name": "Python 3",
   "language": "python",
   "name": "python3"
  },
  "language_info": {
   "codemirror_mode": {
    "name": "ipython",
    "version": 3
   },
   "file_extension": ".py",
   "mimetype": "text/x-python",
   "name": "python",
   "nbconvert_exporter": "python",
   "pygments_lexer": "ipython3",
   "version": "3.11.4"
  },
  "orig_nbformat": 4
 },
 "nbformat": 4,
 "nbformat_minor": 2
}
